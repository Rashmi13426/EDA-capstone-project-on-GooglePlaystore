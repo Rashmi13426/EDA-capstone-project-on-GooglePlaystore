{
  "nbformat": 4,
  "nbformat_minor": 0,
  "metadata": {
    "colab": {
      "private_outputs": true,
      "provenance": [],
      "collapsed_sections": [
        "vncDsAP0Gaoa",
        "FJNUwmbgGyua",
        "w6K7xa23Elo4",
        "PH-0ReGfmX4f",
        "mDgbUHAGgjLW"
      ]
    },
    "kernelspec": {
      "name": "python3",
      "display_name": "Python 3"
    },
    "language_info": {
      "name": "python"
    }
  },
  "cells": [
    {
      "cell_type": "code",
      "source": [],
      "metadata": {
        "id": "I1apcow5dxii"
      },
      "execution_count": null,
      "outputs": []
    },
    {
      "cell_type": "markdown",
      "source": [
        "# **Project Name**    -\n",
        "\n"
      ],
      "metadata": {
        "id": "vncDsAP0Gaoa"
      }
    },
    {
      "cell_type": "markdown",
      "source": [
        "##### **Project Type**    - EDA/Regression/Classification/Unsupervised\n",
        "##### **Contribution**    - Individual/Team\n",
        "##### **Team Member 1 -**\n",
        "##### **Team Member 2 -**\n",
        "##### **Team Member 3 -**\n",
        "##### **Team Member 4 -**"
      ],
      "metadata": {
        "id": "beRrZCGUAJYm"
      }
    },
    {
      "cell_type": "markdown",
      "source": [
        "# **Project Summary -**"
      ],
      "metadata": {
        "id": "FJNUwmbgGyua"
      }
    },
    {
      "cell_type": "markdown",
      "source": [
        "Write the summary here within 500-600 words."
      ],
      "metadata": {
        "id": "F6v_1wHtG2nS"
      }
    },
    {
      "cell_type": "markdown",
      "source": [
        "# **GitHub Link -**"
      ],
      "metadata": {
        "id": "w6K7xa23Elo4"
      }
    },
    {
      "cell_type": "markdown",
      "source": [
        "Provide your GitHub Link here."
      ],
      "metadata": {
        "id": "h1o69JH3Eqqn"
      }
    },
    {
      "cell_type": "markdown",
      "source": [
        "# **Problem Statement**\n"
      ],
      "metadata": {
        "id": "yQaldy8SH6Dl"
      }
    },
    {
      "cell_type": "markdown",
      "source": [
        "With millions of apps on the Google Play Store, it’s difficult for developers to make their apps stand out. Many fail to gain downloads or good ratings because they lack insights into what drives success. This project analyzes Play Store data and user reviews to find key factors that influence app popularity, helping developers make better decisions."
      ],
      "metadata": {
        "id": "DpeJGUA3kjGy"
      }
    },
    {
      "cell_type": "markdown",
      "source": [
        "#### **Define Your Business Objective?**"
      ],
      "metadata": {
        "id": "PH-0ReGfmX4f"
      }
    },
    {
      "cell_type": "markdown",
      "source": [
        "Answer Here."
      ],
      "metadata": {
        "id": "PhDvGCAqmjP1"
      }
    },
    {
      "cell_type": "markdown",
      "source": [
        "# **General Guidelines** : -  "
      ],
      "metadata": {
        "id": "mDgbUHAGgjLW"
      }
    },
    {
      "cell_type": "markdown",
      "source": [
        "1.   Well-structured, formatted, and commented code is required.\n",
        "2.   Exception Handling, Production Grade Code & Deployment Ready Code will be a plus. Those students will be awarded some additional credits.\n",
        "     \n",
        "     The additional credits will have advantages over other students during Star Student selection.\n",
        "       \n",
        "             [ Note: - Deployment Ready Code is defined as, the whole .ipynb notebook should be executable in one go\n",
        "                       without a single error logged. ]\n",
        "\n",
        "3.   Each and every logic should have proper comments.\n",
        "4. You may add as many number of charts you want. Make Sure for each and every chart the following format should be answered.\n",
        "        \n",
        "\n",
        "```\n",
        "# Chart visualization code\n",
        "```\n",
        "            \n",
        "\n",
        "*   Why did you pick the specific chart?\n",
        "*   What is/are the insight(s) found from the chart?\n",
        "* Will the gained insights help creating a positive business impact?\n",
        "Are there any insights that lead to negative growth? Justify with specific reason.\n",
        "\n",
        "5. You have to create at least 20 logical & meaningful charts having important insights.\n",
        "\n",
        "\n",
        "[ Hints : - Do the Vizualization in  a structured way while following \"UBM\" Rule.\n",
        "\n",
        "U - Univariate Analysis,\n",
        "\n",
        "B - Bivariate Analysis (Numerical - Categorical, Numerical - Numerical, Categorical - Categorical)\n",
        "\n",
        "M - Multivariate Analysis\n",
        " ]\n",
        "\n",
        "\n",
        "\n"
      ],
      "metadata": {
        "id": "ZrxVaUj-hHfC"
      }
    },
    {
      "cell_type": "markdown",
      "source": [
        "# ***Let's Begin !***"
      ],
      "metadata": {
        "id": "O_i_v8NEhb9l"
      }
    },
    {
      "cell_type": "markdown",
      "source": [
        "## ***1. Know Your Data***"
      ],
      "metadata": {
        "id": "HhfV-JJviCcP"
      }
    },
    {
      "cell_type": "markdown",
      "source": [
        "### Import Libraries"
      ],
      "metadata": {
        "id": "Y3lxredqlCYt"
      }
    },
    {
      "cell_type": "code",
      "source": [
        "from google.colab import drive\n",
        "drive.mount('/content/drive')"
      ],
      "metadata": {
        "id": "tOl5JtoR027Z"
      },
      "execution_count": null,
      "outputs": []
    },
    {
      "cell_type": "code",
      "source": [
        "# Import Libraries\n",
        "\n",
        "import numpy as np\n",
        "'''While it wasn't explicitly used in the subsequent cells you've executed so far, it's a common practice to import it at the beginning of data analysis projects as it provides support for large,\n",
        "multi-dimensional arrays and matrices, along with a large collection of high-level mathematical functions to operate on these arrays.\n",
        "It's likely included as a standard import for potential future use in numerical operations or data manipulation within the notebook.'''\n",
        "import pandas as pd\n",
        "import matplotlib.pyplot as plt\n",
        "import seaborn as sns  #Perfect for correlation heatmaps, pair plots, distribution plots, and boxplots with minimal code.\n",
        "from datetime import datetime\n",
        "import warnings\n",
        "warnings.filterwarnings('ignore')\n",
        "import missingno as msno"
      ],
      "metadata": {
        "id": "M8Vqi-pPk-HR"
      },
      "execution_count": null,
      "outputs": []
    },
    {
      "cell_type": "markdown",
      "source": [
        "### Dataset Loading"
      ],
      "metadata": {
        "id": "3RnN4peoiCZX"
      }
    },
    {
      "cell_type": "code",
      "source": [
        "# Load Dataset\n",
        "# Load Dataset\n",
        "apps_df = pd.read_csv('/content/Play Store Data.csv')\n",
        "reviews_df = pd.read_csv('/content/User Reviews.csv')"
      ],
      "metadata": {
        "id": "4CkvbW_SlZ_R"
      },
      "execution_count": null,
      "outputs": []
    },
    {
      "cell_type": "markdown",
      "source": [
        "### Dataset First View"
      ],
      "metadata": {
        "id": "x71ZqKXriCWQ"
      }
    },
    {
      "cell_type": "code",
      "source": [
        "# Dataset First Look\n",
        "apps_df.head()  # to display the first 5 rows from playstore data\n",
        "\n"
      ],
      "metadata": {
        "id": "LWNFOSvLl09H"
      },
      "execution_count": null,
      "outputs": []
    },
    {
      "cell_type": "code",
      "source": [
        "# Dataset First Look\n",
        "reviews_df.head() # to display the first 5 rows from reviews data"
      ],
      "metadata": {
        "id": "sH_7v4YmpiAt"
      },
      "execution_count": null,
      "outputs": []
    },
    {
      "cell_type": "code",
      "source": [
        "# Dataset First Look\n",
        "apps_df.tail() # to display the last 5 rows from playstore data"
      ],
      "metadata": {
        "id": "atUMcDYJTJ_5"
      },
      "execution_count": null,
      "outputs": []
    },
    {
      "cell_type": "code",
      "source": [
        "# Dataset First Look\n",
        "reviews_df.tail() # to display the last 5 rows from reviews data"
      ],
      "metadata": {
        "id": "7ILkinJATOwH"
      },
      "execution_count": null,
      "outputs": []
    },
    {
      "cell_type": "markdown",
      "source": [
        "### Dataset Rows & Columns count"
      ],
      "metadata": {
        "id": "7hBIi_osiCS2"
      }
    },
    {
      "cell_type": "code",
      "source": [
        "# Playstore Dataset Rows & Columns count\n",
        "print(f'The number of rows are {apps_df.shape[0]}, and columns are {apps_df.shape[1]} in playstore dataset.')"
      ],
      "metadata": {
        "id": "Kllu7SJgmLij"
      },
      "execution_count": null,
      "outputs": []
    },
    {
      "cell_type": "code",
      "source": [
        "# Reviews Dataset Rows & Columns count\n",
        "print(f'The number of rows are {reviews_df.shape[0]}, and columns are {reviews_df.shape[1]} in reviews dataset.')"
      ],
      "metadata": {
        "id": "wC1n3rD9qRT9"
      },
      "execution_count": null,
      "outputs": []
    },
    {
      "cell_type": "markdown",
      "source": [
        "### Dataset Information"
      ],
      "metadata": {
        "id": "JlHwYmJAmNHm"
      }
    },
    {
      "cell_type": "code",
      "source": [
        "# Dataset Info\n",
        "apps_df.info() # to get the information about playstore data"
      ],
      "metadata": {
        "id": "e9hRXRi6meOf"
      },
      "execution_count": null,
      "outputs": []
    },
    {
      "cell_type": "code",
      "source": [
        "# Dataset Info\n",
        "reviews_df.info() # to get the information about reviews data"
      ],
      "metadata": {
        "id": "DPcouqhxqfiB"
      },
      "execution_count": null,
      "outputs": []
    },
    {
      "cell_type": "markdown",
      "source": [
        "#### Duplicate Values"
      ],
      "metadata": {
        "id": "35m5QtbWiB9F"
      }
    },
    {
      "cell_type": "code",
      "source": [
        "# Dataset Duplicate Value Count\n",
        "apps_df.nunique() # to check the duplicates from playstore data"
      ],
      "metadata": {
        "id": "1sLdpKYkmox0"
      },
      "execution_count": null,
      "outputs": []
    },
    {
      "cell_type": "code",
      "source": [
        "# Dataset Duplicate Value Count\n",
        "reviews_df.nunique() # to check the duplicates from reviews data"
      ],
      "metadata": {
        "id": "C4pYi4eGsEdr"
      },
      "execution_count": null,
      "outputs": []
    },
    {
      "cell_type": "markdown",
      "source": [
        "#### Missing Values/Null Values"
      ],
      "metadata": {
        "id": "PoPl-ycgm1ru"
      }
    },
    {
      "cell_type": "code",
      "source": [
        "# Missing Values/Null Values Count\n",
        "missing_apps_df = apps_df.isnull().sum()\n",
        "missing_apps_df  # to count the missing values in playstore data"
      ],
      "metadata": {
        "id": "GgHWkxvamxVg"
      },
      "execution_count": null,
      "outputs": []
    },
    {
      "cell_type": "code",
      "source": [
        "# Missing Values/Null Values Count\n",
        "missing_reviews_df = reviews_df.isnull().sum()\n",
        "missing_reviews_df #to count the missing values in reviews data"
      ],
      "metadata": {
        "id": "_t6PW06UUJvT"
      },
      "execution_count": null,
      "outputs": []
    },
    {
      "cell_type": "code",
      "source": [
        "missing_apps = missing_apps_df[missing_apps_df>0]"
      ],
      "metadata": {
        "id": "zfv1E1rtsdt9"
      },
      "execution_count": null,
      "outputs": []
    },
    {
      "cell_type": "code",
      "source": [
        "missing_reviews = missing_reviews_df[missing_reviews_df>0]"
      ],
      "metadata": {
        "id": "ZCvuQdYnsYD_"
      },
      "execution_count": null,
      "outputs": []
    },
    {
      "cell_type": "code",
      "source": [
        "# Visualizing the missing values in playstore data\n",
        "plt.figure(figsize=(11,5))\n",
        "plt.bar(missing_apps_df.index, missing_apps_df.values, color = 'skyblue')\n",
        "plt.title('Missing Values in Playstore Dataset',fontsize = 14)\n",
        "plt.xlabel('Columns', fontsize = 12)\n",
        "plt.ylabel('Number of Missing Values', fontsize=12)\n",
        "plt.xticks(rotation=45)\n",
        "plt.show()"
      ],
      "metadata": {
        "id": "4dQB1ZG6ja-s"
      },
      "execution_count": null,
      "outputs": []
    },
    {
      "cell_type": "code",
      "source": [
        "# Visualizing the missing values in reviews data\n",
        "plt.figure(figsize=(11,5))\n",
        "plt.bar(missing_reviews_df.index, missing_reviews_df.values, color = 'skyblue')\n",
        "plt.title('Missing Values in Reviews Dataset',fontsize = 14)\n",
        "plt.xlabel('Columns', fontsize = 12)\n",
        "plt.ylabel('Number of Missing Values', fontsize=12)\n",
        "plt.xticks(rotation=45)\n",
        "plt.show()"
      ],
      "metadata": {
        "id": "vckxsbIOja4c"
      },
      "execution_count": null,
      "outputs": []
    },
    {
      "cell_type": "code",
      "source": [
        "missing_reviews = missing_reviews_df[missing_reviews_df>0]\n",
        "missing_reviews"
      ],
      "metadata": {
        "id": "pitSVPe7jayy"
      },
      "execution_count": null,
      "outputs": []
    },
    {
      "cell_type": "code",
      "source": [
        "# Visualizing the missing values in playstore data\n",
        "\n",
        "plt.figure(figsize = (11,6))\n",
        "plt.bar(missing_apps.index, missing_apps.values, color = 'purple')\n",
        "plt.title('Missing Values in Playstore Dataset',fontsize = 12)\n",
        "plt.xlabel('Columns', fontsize = 12)\n",
        "plt.ylabel('Number of Missing Values', fontsize=12)\n",
        "plt.xticks(rotation=45)\n",
        "plt.show()\n"
      ],
      "metadata": {
        "id": "zyUZrEQ7javV"
      },
      "execution_count": null,
      "outputs": []
    },
    {
      "cell_type": "code",
      "source": [
        "# Visualizing the missing values in reviews data\n",
        "\n",
        "plt.figure(figsize = (9,4))\n",
        "plt.bar(missing_reviews.index, missing_reviews.values, color = 'purple')\n",
        "plt.title('Missing Values in Reviews Dataset',fontsize = 12)\n",
        "plt.xlabel('Columns', fontsize = 12)\n",
        "plt.ylabel('Number of Missing Values', fontsize=12)\n",
        "plt.xticks(rotation=45)\n",
        "plt.show()"
      ],
      "metadata": {
        "id": "XbVWL9tvjaqc"
      },
      "execution_count": null,
      "outputs": []
    },
    {
      "cell_type": "markdown",
      "source": [
        "### What did you know about your dataset?"
      ],
      "metadata": {
        "id": "H0kj-8xxnORC"
      }
    },
    {
      "cell_type": "markdown",
      "source": [
        "The Play Store dataset contains information about Android apps, including their name, category, rating, number of reviews, size, installs, price, and content rating. It helps analyze app popularity and performance. The User Reviews dataset includes translated user feedback along with sentiment labels (positive, negative, neutral) and scores that measure the tone and subjectivity of each review. Together, these datasets provide insights into app quality, user satisfaction, and factors that influence app success.\n",
        "\n",
        "**Shape & Size:**\n",
        "The Play Store dataset contains 10,841 rows and 13 columns. The Reviews dataset contains 64,295 rows and 5 columns.\n",
        "\n"
      ],
      "metadata": {
        "id": "gfoNAAC-nUe_"
      }
    },
    {
      "cell_type": "markdown",
      "source": [
        "## ***2. Understanding Your Variables***"
      ],
      "metadata": {
        "id": "nA9Y7ga8ng1Z"
      }
    },
    {
      "cell_type": "code",
      "source": [
        "# Playstore Dataset Columns\n",
        "apps_df.columns"
      ],
      "metadata": {
        "id": "j7xfkqrt5Ag5"
      },
      "execution_count": null,
      "outputs": []
    },
    {
      "cell_type": "code",
      "source": [
        "# Reviews Dataset Columns\n",
        "reviews_df.columns"
      ],
      "metadata": {
        "id": "qmYYR2J0ndb7"
      },
      "execution_count": null,
      "outputs": []
    },
    {
      "cell_type": "code",
      "source": [
        "# Playstore Dataset Description\n",
        "apps_df.describe()"
      ],
      "metadata": {
        "id": "DnOaZdaE5Q5t"
      },
      "execution_count": null,
      "outputs": []
    },
    {
      "cell_type": "code",
      "source": [
        "# Reviews Dataset Description\n",
        "reviews_df.describe()"
      ],
      "metadata": {
        "id": "HhvIB3H9nos7"
      },
      "execution_count": null,
      "outputs": []
    },
    {
      "cell_type": "markdown",
      "source": [
        "### Variables Description"
      ],
      "metadata": {
        "id": "PBTbrJXOngz2"
      }
    },
    {
      "cell_type": "markdown",
      "source": [
        "**Description about Playstore Dataset:**\n",
        "\n",
        "The Rating column in the Play Store dataset has 9,367 valid entries with an average rating of 4.19. Most apps are rated between 4.0 and 4.5, with a median of 4.3. However, the maximum rating is 19.0, which is clearly an error since ratings should range from 1 to 5. This indicates the need for data cleaning to correct such anomalies.\n",
        "\n",
        "**Description about Reviews Dataset:**\n",
        "\n",
        "The User Reviews dataset has 37,432 entries. On average, the reviews are slightly positive, with a sentiment polarity of 0.18 (ranging from -1 for very negative to 1 for very positive). The average subjectivity is 0.49, meaning the reviews are a mix of personal opinions and factual comments."
      ],
      "metadata": {
        "id": "aJV4KIxSnxay"
      }
    },
    {
      "cell_type": "markdown",
      "source": [
        "### Check Unique Values for each variable."
      ],
      "metadata": {
        "id": "u3PMJOP6ngxN"
      }
    },
    {
      "cell_type": "code",
      "source": [
        "# Check Unique Values for each variable in playstore dataset\n",
        "apps_df.nunique()"
      ],
      "metadata": {
        "id": "zms12Yq5n-jE"
      },
      "execution_count": null,
      "outputs": []
    },
    {
      "cell_type": "code",
      "source": [
        "# Check Unique Values for each variable in reviews dataset\n",
        "reviews_df.nunique()"
      ],
      "metadata": {
        "id": "F6mS3YUapmsd"
      },
      "execution_count": null,
      "outputs": []
    },
    {
      "cell_type": "markdown",
      "source": [
        "## 3. ***Data Wrangling***"
      ],
      "metadata": {
        "id": "dauF4eBmngu3"
      }
    },
    {
      "cell_type": "markdown",
      "source": [
        "### Data Wrangling Code"
      ],
      "metadata": {
        "id": "bKJF3rekwFvQ"
      }
    },
    {
      "cell_type": "code",
      "source": [
        "# Write your code to make your dataset analysis ready.\n",
        "\n",
        "apps_df[apps_df['Installs'] == 'Free'].index # to identify the row index"
      ],
      "metadata": {
        "id": "wk-9a2fpoLcV"
      },
      "execution_count": null,
      "outputs": []
    },
    {
      "cell_type": "code",
      "source": [
        "apps_df= apps_df.drop(index=10472) # To drop a row where the columns appear misplaced"
      ],
      "metadata": {
        "id": "m3LmCOzvZyvG"
      },
      "execution_count": null,
      "outputs": []
    },
    {
      "cell_type": "code",
      "source": [
        "apps_df['Size'].unique()"
      ],
      "metadata": {
        "id": "Kh1IC2_cZylX"
      },
      "execution_count": null,
      "outputs": []
    },
    {
      "cell_type": "code",
      "source": [
        "apps_df['Size'].value_counts()"
      ],
      "metadata": {
        "id": "IjU5e9vSZyeF"
      },
      "execution_count": null,
      "outputs": []
    },
    {
      "cell_type": "code",
      "source": [
        "apps_df['Size'].isnull().sum()"
      ],
      "metadata": {
        "id": "5-O6Ah0vZyU5"
      },
      "execution_count": null,
      "outputs": []
    },
    {
      "cell_type": "code",
      "source": [
        "# make size a numeric column in playstore dataset\n",
        "# finding values having 'M' in them\n",
        "apps_df['Size'].loc[apps_df['Size'].str.contains('M')].value_counts().sum()"
      ],
      "metadata": {
        "id": "QjQcCWUUgJC2"
      },
      "execution_count": null,
      "outputs": []
    },
    {
      "cell_type": "code",
      "source": [
        "# finding values having 'K' in them\n",
        "apps_df['Size'].loc[apps_df['Size'].str.contains('k')].value_counts().sum()"
      ],
      "metadata": {
        "id": "qA783Mvsgw1a"
      },
      "execution_count": null,
      "outputs": []
    },
    {
      "cell_type": "code",
      "source": [
        "# finding values having 'varies with device' in them\n",
        "apps_df['Size'].loc[apps_df['Size'].str.contains('Varies with device')].value_counts().sum()"
      ],
      "metadata": {
        "id": "ErueusuUgwxp"
      },
      "execution_count": null,
      "outputs": []
    },
    {
      "cell_type": "code",
      "source": [
        "# converting the size column into bytes\n",
        "def convert_size(size):\n",
        "  if isinstance(size,str):\n",
        "    if 'k' in size:\n",
        "     return float(size.replace('k',\"\")) * 1024\n",
        "    elif 'M' in size:\n",
        "     return float(size.replace('M',\"\")) * 1024 * 1024\n",
        "    elif 'Varies with device' in size:\n",
        "     return np.nan\n",
        "  return size"
      ],
      "metadata": {
        "id": "cj2et5N4gwjn"
      },
      "execution_count": null,
      "outputs": []
    },
    {
      "cell_type": "code",
      "source": [
        "apps_df['Size'] = apps_df['Size'].apply(convert_size)"
      ],
      "metadata": {
        "id": "bJcnZWsrgwgD"
      },
      "execution_count": null,
      "outputs": []
    },
    {
      "cell_type": "code",
      "source": [
        "apps_df.rename(columns={'Size' : 'Size_in_bytes'}, inplace = True)"
      ],
      "metadata": {
        "id": "k_xkcw8rgwbO"
      },
      "execution_count": null,
      "outputs": []
    },
    {
      "cell_type": "code",
      "source": [
        "apps_df['Installs'].unique()"
      ],
      "metadata": {
        "id": "BWfXb8EhgwMu"
      },
      "execution_count": null,
      "outputs": []
    },
    {
      "cell_type": "code",
      "source": [
        "apps_df['Installs'].value_counts()"
      ],
      "metadata": {
        "id": "As64QpRLVlEk"
      },
      "execution_count": null,
      "outputs": []
    },
    {
      "cell_type": "code",
      "source": [
        "apps_df['Installs'].isnull().sum()"
      ],
      "metadata": {
        "id": "NGgm6jjaVkuR"
      },
      "execution_count": null,
      "outputs": []
    },
    {
      "cell_type": "code",
      "source": [
        "# make Installs a numeric column in playstore dataset\n",
        "apps_df['Installs'] = apps_df['Installs'].str.replace('+', '').str.replace(',', '').astype(int)"
      ],
      "metadata": {
        "id": "YfPGQ73-Vkq9"
      },
      "execution_count": null,
      "outputs": []
    },
    {
      "cell_type": "code",
      "source": [
        "apps_df['Installs']"
      ],
      "metadata": {
        "id": "4dC0NKYNVkfL"
      },
      "execution_count": null,
      "outputs": []
    },
    {
      "cell_type": "code",
      "source": [
        "## Price column\n",
        "apps_df['Price'].unique()"
      ],
      "metadata": {
        "id": "U4rb0SXKVtDo"
      },
      "execution_count": null,
      "outputs": []
    },
    {
      "cell_type": "code",
      "source": [
        "apps_df['Price'].value_counts()"
      ],
      "metadata": {
        "id": "GdU8ZDskVs_3"
      },
      "execution_count": null,
      "outputs": []
    },
    {
      "cell_type": "code",
      "source": [
        "apps_df['Price'].isnull().sum()"
      ],
      "metadata": {
        "id": "vM3f76ZqVs7q"
      },
      "execution_count": null,
      "outputs": []
    },
    {
      "cell_type": "code",
      "source": [
        "apps_df['Price'] = apps_df['Price'].str.replace('$', '').astype(float)"
      ],
      "metadata": {
        "id": "maF6-IsEV07L"
      },
      "execution_count": null,
      "outputs": []
    },
    {
      "cell_type": "code",
      "source": [
        "apps_df.rename(columns={'Price' : 'Priceeeee'}, inplace = True)"
      ],
      "metadata": {
        "id": "sDJAfEW4V04b"
      },
      "execution_count": null,
      "outputs": []
    },
    {
      "cell_type": "code",
      "source": [
        "apps_df['Priceeeee'].value_counts()"
      ],
      "metadata": {
        "id": "qP376U4xV005"
      },
      "execution_count": null,
      "outputs": []
    },
    {
      "cell_type": "code",
      "source": [
        "apps_df['Reviews'] = apps_df['Reviews'].astype(int)"
      ],
      "metadata": {
        "id": "AONJXIOPV0vd"
      },
      "execution_count": null,
      "outputs": []
    },
    {
      "cell_type": "code",
      "source": [
        "apps_df.describe()"
      ],
      "metadata": {
        "id": "yUXchThCV0su"
      },
      "execution_count": null,
      "outputs": []
    },
    {
      "cell_type": "code",
      "source": [
        "apps_df.isnull().sum()"
      ],
      "metadata": {
        "id": "5tvC8nU3V0ot"
      },
      "execution_count": null,
      "outputs": []
    },
    {
      "cell_type": "code",
      "source": [
        "apps_df.dropna(subset = ['Current Ver', 'Android Ver', 'Type'], inplace = True)"
      ],
      "metadata": {
        "id": "PSxHSCsAWOmL"
      },
      "execution_count": null,
      "outputs": []
    },
    {
      "cell_type": "code",
      "source": [
        "apps_df.shape"
      ],
      "metadata": {
        "id": "6QLolNlzWOhZ"
      },
      "execution_count": null,
      "outputs": []
    },
    {
      "cell_type": "code",
      "source": [
        "# Fill missing ratings with the average rating\n",
        "apps_df['Rating'] = apps_df['Rating'].fillna(apps_df['Rating'].mean())"
      ],
      "metadata": {
        "id": "0L3yuyDBWObi"
      },
      "execution_count": null,
      "outputs": []
    },
    {
      "cell_type": "code",
      "source": [
        "# Fill missing Size_in_bytes with the median Size_in_bytes\n",
        "apps_df['Size_in_bytes'] = apps_df['Size_in_bytes'].fillna(apps_df['Size_in_bytes'].median())"
      ],
      "metadata": {
        "id": "iZOqJOClWVdl"
      },
      "execution_count": null,
      "outputs": []
    },
    {
      "cell_type": "code",
      "source": [
        "apps_df.isnull().sum()"
      ],
      "metadata": {
        "id": "xh9KdhprWVWT"
      },
      "execution_count": null,
      "outputs": []
    },
    {
      "cell_type": "code",
      "source": [
        "reviews_df.isnull().sum()"
      ],
      "metadata": {
        "id": "ISdbXz-kWVQ8"
      },
      "execution_count": null,
      "outputs": []
    },
    {
      "cell_type": "code",
      "source": [
        "reviews_df = reviews_df.dropna(subset=['Translated_Review'])"
      ],
      "metadata": {
        "id": "DcisU4SLdjQS"
      },
      "execution_count": null,
      "outputs": []
    },
    {
      "cell_type": "code",
      "source": [
        "reviews_df.shape"
      ],
      "metadata": {
        "id": "huSKdSIVdqdc"
      },
      "execution_count": null,
      "outputs": []
    },
    {
      "cell_type": "code",
      "source": [
        "reviews_df.isnull().sum()"
      ],
      "metadata": {
        "id": "xmkzV_oKdvxx"
      },
      "execution_count": null,
      "outputs": []
    },
    {
      "cell_type": "markdown",
      "source": [
        "### What all manipulations have you done and insights you found?"
      ],
      "metadata": {
        "id": "MSa1f5Uengrz"
      }
    },
    {
      "cell_type": "markdown",
      "source": [
        "### Data Cleaning & Insights Summary  \n",
        "\n",
        "- Removed misaligned row at Index 10472 where columns were misplaced.  \n",
        "- Standardized **Size** column (converted to bytes), handling:  \n",
        "  - `M` → Megabytes  \n",
        "  - `K` → Kilobytes  \n",
        "  - `Varies with device` → replaced with NaN  \n",
        "- Filled missing values:  \n",
        "  - **Rating** → filled with mean  \n",
        "  - **Size_in_Bytes** → filled with median  \n",
        "- Cleaned **Installs** by removing `+` and converting to integer.  \n",
        "- Cleaned **Price** by removing `$` and converting to float.  \n",
        "- Converted **Reviews** to integer.  \n",
        "- Dropped rows with missing values in critical columns (**Current Ver**, **Android Ver**, and **Type**).\n",
        "\n",
        "- Out of 64k reviews, 26k were missing review text and corresponding sentiment values. These rows were dropped since they provide no meaningful insights for sentiment analysis. The cleaned dataset now contains ~38k valid reviews."
      ],
      "metadata": {
        "id": "LbyXE7I1olp8"
      }
    },
    {
      "cell_type": "markdown",
      "source": [
        "## ***4. Data Vizualization, Storytelling & Experimenting with charts : Understand the relationships between variables***"
      ],
      "metadata": {
        "id": "GF8Ens_Soomf"
      }
    },
    {
      "cell_type": "markdown",
      "source": [
        "# Chart - 1"
      ],
      "metadata": {
        "id": "0wOQAZs5pc--"
      }
    },
    {
      "cell_type": "markdown",
      "source": [
        "# Visualization 1: Distribution of App Categories"
      ],
      "metadata": {
        "id": "T8hvJbNziEe8"
      }
    },
    {
      "cell_type": "code",
      "source": [
        "plt.figure(figsize=(12,6))\n",
        "sns.countplot(data=apps_df, x='Category', order=apps_df['Category'].value_counts().index, palette='viridis')\n",
        "plt.xticks(rotation=90)\n",
        "plt.title(\"Number of Apps per Category\", fontsize=14)\n",
        "plt.xlabel(\"Category\")\n",
        "plt.ylabel(\"Number of Apps\")\n",
        "plt.show()"
      ],
      "metadata": {
        "id": "7v_ESjsspbW7"
      },
      "execution_count": null,
      "outputs": []
    },
    {
      "cell_type": "markdown",
      "source": [
        "##### 1. Why did you pick the specific chart?"
      ],
      "metadata": {
        "id": "K5QZ13OEpz2H"
      }
    },
    {
      "cell_type": "markdown",
      "source": [
        "I chose this bar chart because it clearly shows the distribution of apps across different categories in the Google Play Store. Since one of the first steps in any analysis is understanding the dataset landscape, this visualization helps identify which categories dominate in terms of app availability. A countplot is the most straightforward and interpretable choice to compare categorical distributions."
      ],
      "metadata": {
        "id": "8JoTh0DRiYuj"
      }
    },
    {
      "cell_type": "markdown",
      "source": [
        "##### 2. What is/are the insight(s) found from the chart?"
      ],
      "metadata": {
        "id": "lQ7QKXXCp7Bj"
      }
    },
    {
      "cell_type": "markdown",
      "source": [
        "- The ‘Family’ category dominates with nearly 2000 apps, followed by ‘Game’ and ‘Tools’.\n",
        "\n",
        "- Categories such as ‘Beauty’, ‘Parenting’, and ‘Comics’ have the fewest apps, indicating niche markets.\n",
        "\n",
        "- The distribution is highly skewed, with a handful of categories contributing the majority of apps, while many others remain underrepresented."
      ],
      "metadata": {
        "id": "9BPKHD7vibAD"
      }
    },
    {
      "cell_type": "markdown",
      "source": [
        "##### 3. Will the gained insights help creating a positive business impact?\n",
        "Are there any insights that lead to negative growth? Justify with specific reason."
      ],
      "metadata": {
        "id": "448CDAPjqfQr"
      }
    },
    {
      "cell_type": "markdown",
      "source": [
        "- **Positive:** Yes, the insights can guide business strategy in multiple ways:\n",
        "\n",
        "For Google: It shows where competition is dense (e.g., Games, Family), meaning the Play Store algorithm could improve app discovery in crowded categories.\n",
        "\n",
        "For developers: New entrants might strategically target less saturated categories like Parenting or Beauty, where differentiation is easier and competition is lower.\n",
        "\n",
        "For investors/partners: Helps identify growth opportunities in underserved segments.\n",
        "\n",
        "**Are there any insights that lead to negative growth? Justify.**\n",
        "\n",
        "Yes, there are potential risks:\n",
        "\n",
        "- Overcrowding in dominant categories (Family, Games, Tools): High competition makes it harder for new apps to stand out, which could lead to lower growth rates per app despite overall demand.\n",
        "\n",
        "- Neglected categories (Beauty, Parenting, Comics): While they have low competition, the small number of apps may also reflect limited user demand, leading to slower adoption if developers enter without validating market size.\n",
        "\n",
        "**Justification:**\n",
        "The skewed distribution means that while some categories attract massive developer attention, it doesn’t guarantee equal user demand or profitability. Overcrowding could dilute revenue share, and niche categories might not generate enough downloads to sustain growth unless paired with strong user research."
      ],
      "metadata": {
        "id": "3cspy4FjqxJW"
      }
    },
    {
      "cell_type": "markdown",
      "source": [
        "# Chart - 2"
      ],
      "metadata": {
        "id": "KSlN3yHqYklG"
      }
    },
    {
      "cell_type": "markdown",
      "source": [
        "# **Visualization 2: Ratings Distribution**"
      ],
      "metadata": {
        "id": "WktDZJJOikur"
      }
    },
    {
      "cell_type": "code",
      "source": [
        "# Chart - 2 visualization code\n",
        "\n",
        "plt.figure(figsize=(8,5))\n",
        "sns.histplot(apps_df['Rating'].dropna(), bins=20, kde=True, color='blue')\n",
        "plt.title(\"Distribution of App Ratings\", fontsize=14)\n",
        "plt.xlabel(\"Rating\")\n",
        "plt.ylabel(\"Count\")\n",
        "plt.show()\n"
      ],
      "metadata": {
        "id": "R4YgtaqtYklH"
      },
      "execution_count": null,
      "outputs": []
    },
    {
      "cell_type": "markdown",
      "source": [
        "##### 1. Why did you pick the specific chart?"
      ],
      "metadata": {
        "id": "t6dVpIINYklI"
      }
    },
    {
      "cell_type": "markdown",
      "source": [
        "I chose this histogram with KDE overlay because it effectively shows the overall distribution of app ratings. A histogram is the most intuitive way to spot central tendencies, skewness, and outliers. This chart helps answer a key question: How do users generally rate apps on the Play Store?"
      ],
      "metadata": {
        "id": "5aaW0BYyYklI"
      }
    },
    {
      "cell_type": "markdown",
      "source": [
        "##### 2. What is/are the insight(s) found from the chart?"
      ],
      "metadata": {
        "id": "ijmpgYnKYklI"
      }
    },
    {
      "cell_type": "markdown",
      "source": [
        "- The distribution is right-skewed toward higher ratings: most apps fall between 4.0 and 4.5 stars.\n",
        "\n",
        "- Very few apps have ratings below 3.0, suggesting that poorly rated apps either get updated/removed or fail to attract visibility.\n",
        "\n",
        "- The peak (mode) is around 4.1–4.3 stars, showing that users generally rate apps favorably.\n",
        "\n",
        "- The long tail near 5.0 indicates some apps achieve excellence, but perfection is rare."
      ],
      "metadata": {
        "id": "PSx9atu2YklI"
      }
    },
    {
      "cell_type": "markdown",
      "source": [
        "##### 3. Will the gained insights help creating a positive business impact?\n",
        "Are there any insights that lead to negative growth? Justify with specific reason."
      ],
      "metadata": {
        "id": "-JiQyfWJYklI"
      }
    },
    {
      "cell_type": "markdown",
      "source": [
        "**Will the gained insights help create a positive business impact?**\n",
        "\n",
        "Yes.\n",
        "\n",
        "**For Google:** This reinforces trust in the Play Store ecosystem — high average ratings indicate quality. Google can also refine recommendation systems to highlight consistently high-rated apps.\n",
        "\n",
        "**For developers:** Understanding that users expect at least ~4.0+ ratings sets a benchmark. Developers aiming for ratings below this threshold risk losing visibility or installs.\n",
        "\n",
        "**For product teams:** Encourages continuous improvements and responsiveness to feedback to stay in the 4.0+ band."
      ],
      "metadata": {
        "id": "BcBbebzrYklV"
      }
    },
    {
      "cell_type": "markdown",
      "source": [
        "# Chart - 3"
      ],
      "metadata": {
        "id": "EM7whBJCYoAo"
      }
    },
    {
      "cell_type": "markdown",
      "source": [
        "## Visualization 3: Paid vs Free Apps Installs\n",
        "\n"
      ],
      "metadata": {
        "id": "73Tf6-rLjYg-"
      }
    },
    {
      "cell_type": "code",
      "source": [
        "plt.figure(figsize=(7,5))\n",
        "sns.boxplot(data=apps_df, x='Type', y='Installs')\n",
        "plt.yscale(\"log\")\n",
        "plt.title(\"Free vs Paid Apps: Install Distribution\", fontsize=14)\n",
        "plt.xlabel(\"App Type\")\n",
        "plt.ylabel(\"Installs (log scale)\")\n",
        "plt.show()\n",
        "\n"
      ],
      "metadata": {
        "id": "t6GMdE67YoAp"
      },
      "execution_count": null,
      "outputs": []
    },
    {
      "cell_type": "markdown",
      "source": [
        "##### 1. Why did you pick the specific chart?"
      ],
      "metadata": {
        "id": "fge-S5ZAYoAp"
      }
    },
    {
      "cell_type": "markdown",
      "source": [
        "I chose a boxplot with log-scale installs because it’s the best way to compare the spread and central tendency of installs between free and paid apps. Free vs. paid is a fundamental business model decision for app developers, and this visualization captures not just averages but also the variance and outliers."
      ],
      "metadata": {
        "id": "5dBItgRVYoAp"
      }
    },
    {
      "cell_type": "markdown",
      "source": [
        "##### 2. What is/are the insight(s) found from the chart?"
      ],
      "metadata": {
        "id": "85gYPyotYoAp"
      }
    },
    {
      "cell_type": "markdown",
      "source": [
        "**Free apps dominate installs:** The median installs for free apps are far higher than paid apps.\n",
        "\n",
        "- - Paid apps have much lower installs overall, with most concentrated at the lower end (10²–10³).\n",
        "\n",
        "- The free app category has more extreme outliers (in the range of hundreds of millions to billions of installs).\n",
        "\n",
        "**The distribution shows a trade-off:** free apps gain scale, while paid apps gain select but limited user adoption."
      ],
      "metadata": {
        "id": "4jstXR6OYoAp"
      }
    },
    {
      "cell_type": "markdown",
      "source": [
        "##### 3. Will the gained insights help creating a positive business impact?\n",
        "Are there any insights that lead to negative growth? Justify with specific reason."
      ],
      "metadata": {
        "id": "RoGjAbkUYoAp"
      }
    },
    {
      "cell_type": "markdown",
      "source": [
        "**Will the gained insights help create a positive business impact?**\n",
        "\n",
        "Yes.\n",
        "\n",
        "**For Google:** Confirms that the Play Store ecosystem thrives on free apps, which fuel installs and engagement. This can justify strengthening ad-monetization and in-app purchase models.\n",
        "\n",
        "**For developers:** Insights suggest that free apps with strong monetization strategies (ads, subscriptions, freemium) may achieve far greater reach than paid-only apps.\n",
        "\n",
        "**For investors/business strategy**: Indicates that entering with a free model maximizes market penetration. Paid apps could work only for niche or premium segments.\n",
        "\n",
        "**Are there any insights that lead to negative growth? Justify.**\n",
        "\n",
        "Yes.\n",
        "\n",
        "**Paid apps risk low visibility:** Since installs are much lower, developers relying solely on paid downloads may face negative growth compared to competitors with free models.\n",
        "\n",
        "**User preference shift:** The chart suggests most users expect apps to be free — apps charging upfront may experience higher churn or poor adoption, especially in competitive categories.\n",
        "\n",
        "**Revenue bottleneck:** If developers depend only on upfront payments, growth is limited by small install bases, whereas free apps can scale via alternative monetization.\n",
        "\n",
        "**Justification:** This visualization highlights that while free apps can unlock viral growth, paid apps may struggle unless positioned in a strong niche with unique value (e.g., professional productivity tools, premium utilities)."
      ],
      "metadata": {
        "id": "zfJ8IqMcYoAp"
      }
    },
    {
      "cell_type": "markdown",
      "source": [
        "# Chart - 4"
      ],
      "metadata": {
        "id": "4Of9eVA-YrdM"
      }
    },
    {
      "cell_type": "markdown",
      "source": [
        "# Visualization 4: App Size vs Rating"
      ],
      "metadata": {
        "id": "33vFBD92j2dl"
      }
    },
    {
      "cell_type": "code",
      "source": [
        "# Chart - 4 visualization code\n",
        "\n",
        "plt.figure(figsize=(10,6))\n",
        "sns.scatterplot(data=apps_df, x='Size_in_bytes', y='Rating', alpha=0.6)\n",
        "plt.title(\"App Size vs Rating\", fontsize=14)\n",
        "plt.xlabel(\"App Size (MB)\")\n",
        "plt.ylabel(\"Rating\")\n",
        "plt.show()\n"
      ],
      "metadata": {
        "id": "irlUoxc8YrdO"
      },
      "execution_count": null,
      "outputs": []
    },
    {
      "cell_type": "markdown",
      "source": [
        "##### 1. Why did you pick the specific chart?"
      ],
      "metadata": {
        "id": "iky9q4vBYrdO"
      }
    },
    {
      "cell_type": "markdown",
      "source": [
        "I chose a scatterplot for app size vs. rating because I wanted to test if there’s a relationship between app size and user satisfaction. A scatterplot is the best way to visualize potential correlations between two continuous variables, helping uncover whether larger apps are rated better, worse, or the same as smaller apps."
      ],
      "metadata": {
        "id": "aJRCwT6DYrdO"
      }
    },
    {
      "cell_type": "markdown",
      "source": [
        "##### 2. What is/are the insight(s) found from the chart?"
      ],
      "metadata": {
        "id": "F6T5p64dYrdO"
      }
    },
    {
      "cell_type": "markdown",
      "source": [
        "- Ratings are spread fairly evenly across app sizes — meaning size alone does not guarantee higher ratings.\n",
        "\n",
        "- Apps under ~20MB dominate the distribution (many lightweight apps), but their ratings vary widely.\n",
        "\n",
        "- Larger apps (50MB+) tend to cluster around higher ratings (4.0–4.5), possibly reflecting richer features, graphics, or stability.\n",
        "\n",
        "- A few large apps still receive poor ratings — indicating that bloat doesn’t always translate into value for users."
      ],
      "metadata": {
        "id": "Xx8WAJvtYrdO"
      }
    },
    {
      "cell_type": "markdown",
      "source": [
        "##### 3. Will the gained insights help creating a positive business impact?\n",
        "Are there any insights that lead to negative growth? Justify with specific reason."
      ],
      "metadata": {
        "id": "y-Ehk30pYrdP"
      }
    },
    {
      "cell_type": "markdown",
      "source": [
        "**Will the gained insights help create a positive business impact?**\n",
        "\n",
        "Yes.\n",
        "\n",
        "**For developers:** Small size is not enough to guarantee success. Developers should focus on balance between efficiency and functionality — lightweight apps are attractive for downloads, but ratings rise when users perceive quality and value, which often comes with slightly larger, feature-rich builds.\n",
        "\n",
        "**For Google:** Play Store recommendations can highlight high-rated small apps (good for emerging markets with storage/bandwidth constraints) while also promoting feature-rich larger apps that sustain high satisfaction.\n",
        "\n",
        "**Are there any insights that lead to negative growth? Justify.**\n",
        "\n",
        " Yes.\n",
        "\n",
        "- Tiny apps with poor ratings: Many small-size apps (~<10MB) are rated below 3.0, suggesting minimal functionality, ads overload, or poor UX → negative growth due to uninstall risk.\n",
        "\n",
        "- Large apps with poor optimization: Outliers with high size but low ratings indicate bloat without performance — leading to storage complaints, slower installs, and churn.\n",
        "\n",
        "**Justification:** chart shows that size extremes (too small or too large) can backfire if not paired with usability and quality. Balanced optimization is key to avoiding negative growth."
      ],
      "metadata": {
        "id": "jLNxxz7MYrdP"
      }
    },
    {
      "cell_type": "markdown",
      "source": [
        "# Chart - 5"
      ],
      "metadata": {
        "id": "bamQiAODYuh1"
      }
    },
    {
      "cell_type": "markdown",
      "source": [
        "# Visualization 5: Sentiment Analysis of Reviews"
      ],
      "metadata": {
        "id": "aykLDSq8koJ7"
      }
    },
    {
      "cell_type": "code",
      "source": [
        "# Chart - 5 visualization code\n",
        "\n",
        "plt.figure(figsize=(7,5))\n",
        "sns.countplot(data=reviews_df, x='Sentiment', order=reviews_df['Sentiment'].value_counts().index, palette='coolwarm')\n",
        "plt.title(\"Sentiment of User Reviews\", fontsize=14)\n",
        "plt.xlabel(\"Sentiment\")\n",
        "plt.ylabel(\"Count\")\n",
        "plt.show()\n"
      ],
      "metadata": {
        "id": "TIJwrbroYuh3"
      },
      "execution_count": null,
      "outputs": []
    },
    {
      "cell_type": "markdown",
      "source": [
        "##### 1. Why did you pick the specific chart?"
      ],
      "metadata": {
        "id": "QHF8YVU7Yuh3"
      }
    },
    {
      "cell_type": "markdown",
      "source": [
        "I picked this bar chart because sentiment analysis is one of the most powerful ways to understand user perception beyond just star ratings. While ratings show numeric scores, sentiment captures the emotions behind the reviews. A countplot is a clear way to display how users feel — positive, negative, or neutral — at scale."
      ],
      "metadata": {
        "id": "dcxuIMRPYuh3"
      }
    },
    {
      "cell_type": "markdown",
      "source": [
        "##### 2. What is/are the insight(s) found from the chart?"
      ],
      "metadata": {
        "id": "GwzvFGzlYuh3"
      }
    },
    {
      "cell_type": "markdown",
      "source": [
        "- The majority of reviews are positive, showing that users are generally satisfied with Play Store apps.\n",
        "\n",
        "- A significant number of negative reviews exist, highlighting areas for improvement such as bugs, ads, or performance issues.\n",
        "\n",
        "- Neutral reviews are fewer, suggesting that most users express clear opinions rather than indifference."
      ],
      "metadata": {
        "id": "uyqkiB8YYuh3"
      }
    },
    {
      "cell_type": "markdown",
      "source": [
        "##### 3. Will the gained insights help creating a positive business impact?\n",
        "Are there any insights that lead to negative growth? Justify with specific reason."
      ],
      "metadata": {
        "id": "qYpmQ266Yuh3"
      }
    },
    {
      "cell_type": "markdown",
      "source": [
        "**Will the gained insights help create a positive business impact?**\n",
        "\n",
        "Yes.\n",
        "\n",
        "**For Google:** Reinforces trust in the ecosystem by showing that overall sentiment is positive. But it also pinpoints negative review clusters where Google could guide developers (e.g., flagging frequent complaints).\n",
        "\n",
        "**For developers:** Sentiment analysis provides direct feedback loops, helping them prioritize fixes (like performance stability) and improvements (like UX or ads handling).\n",
        "\n",
        "**For product managers:** Can track sentiment over time, especially after updates, to measure whether changes are being received positively.\n",
        "\n",
        "**Are there any insights that lead to negative growth? Justify.**\n",
        "\n",
        "Yes.\n",
        "\n",
        "- Apps that accumulate a high proportion of negative reviews risk losing users even if their numeric rating looks average.\n",
        "\n",
        "- Negative sentiment often spreads faster (through word of mouth and social sharing), amplifying the risk of churn and lower installs.\n",
        "\n",
        "**Justification**: Ratings tell part of the story, but sentiment gives context. If negative sentiment dominates (bugs, crashes, ads overload), it can trigger uninstalls and poor retention, directly harming growth."
      ],
      "metadata": {
        "id": "_WtzZ_hCYuh4"
      }
    },
    {
      "cell_type": "markdown",
      "source": [
        "# Chart - 6"
      ],
      "metadata": {
        "id": "OH-pJp9IphqM"
      }
    },
    {
      "cell_type": "markdown",
      "source": [
        "# Visualization 6: Category vs Sentiment Polarity"
      ],
      "metadata": {
        "id": "MPMzi9e7Q1Gk"
      }
    },
    {
      "cell_type": "code",
      "source": [
        "# Chart - 6 visualization code\n",
        "\n",
        "avg_sentiment = reviews_df.groupby('App')['Sentiment_Polarity'].mean().reset_index()\n",
        "merged = pd.merge(apps_df, avg_sentiment, on='App')\n",
        "\n",
        "plt.figure(figsize=(12,6))\n",
        "sns.boxplot(data=merged, x='Category', y='Sentiment_Polarity')\n",
        "plt.xticks(rotation=90)\n",
        "plt.title(\"Average Review Sentiment Polarity by Category\", fontsize=14)\n",
        "plt.xlabel(\"Category\")\n",
        "plt.ylabel(\"Sentiment Polarity\")\n",
        "plt.show()\n",
        "\n"
      ],
      "metadata": {
        "id": "kuRf4wtuphqN"
      },
      "execution_count": null,
      "outputs": []
    },
    {
      "cell_type": "markdown",
      "source": [
        "##### 1. Why did you pick the specific chart?"
      ],
      "metadata": {
        "id": "bbFf2-_FphqN"
      }
    },
    {
      "cell_type": "markdown",
      "source": [
        "I chose this boxplot because it compares user sentiment across categories, showing not just the averages but also the variability in how users feel about different types of apps. This visualization helps uncover which categories delight users and which struggle with satisfaction, making it a good bridge between product strategy and customer experience."
      ],
      "metadata": {
        "id": "loh7H2nzphqN"
      }
    },
    {
      "cell_type": "markdown",
      "source": [
        "##### 2. What is/are the insight(s) found from the chart?"
      ],
      "metadata": {
        "id": "_ouA3fa0phqN"
      }
    },
    {
      "cell_type": "markdown",
      "source": [
        "- Sentiment polarity is mostly positive across categories, but there’s variation in spread.\n",
        "\n",
        "- Categories like Education, Books, and Health & Fitness lean more consistently positive, suggesting strong user appreciation.\n",
        "\n",
        "- Categories like Games, Communication, and Social show wider variance, with both very positive and very negative reviews — indicating polarizing user experiences.\n",
        "\n",
        "- Some categories (e.g., Tools, Lifestyle) show neutral-to-low polarity clustering, suggesting user expectations may not be consistently met."
      ],
      "metadata": {
        "id": "VECbqPI7phqN"
      }
    },
    {
      "cell_type": "markdown",
      "source": [
        "##### 3. Will the gained insights help creating a positive business impact?\n",
        "Are there any insights that lead to negative growth? Justify with specific reason."
      ],
      "metadata": {
        "id": "Seke61FWphqN"
      }
    },
    {
      "cell_type": "markdown",
      "source": [
        "**Will the gained insights help create a positive business impact?**\n",
        "\n",
        "Yes.\n",
        "\n",
        "**For Google**: This analysis helps refine Play Store’s recommendation and quality signals — apps in categories with high variability may need more quality checks.\n",
        "\n",
        "**For developers:** Developers in polarizing categories (Games, Social) can differentiate by focusing on reducing negative experiences (like crashes, ads, or poor UX).\n",
        "\n",
        "**For users:** Play Store can highlight “high-sentiment apps” within categories, improving user trust and satisfaction.\n",
        "\n",
        "**Are there any insights that lead to negative growth? Justify.**\n",
        "\n",
        "Yes.\n",
        "\n",
        "- High variance in sentiment within categories (e.g., Games, Communication): This shows inconsistent user experiences → negative growth risk for apps that fail to meet rising expectations.\n",
        "\n",
        "- Low average sentiment in some categories (e.g., Tools): Suggests potential churn and uninstall risks, as users may switch to alternatives if quality is subpar.\n",
        "\n",
        "**Justification:** Categories with inconsistent or low sentiment polarity can hurt retention and reputation. Unless developers act on feedback, negative reviews will accumulate faster, stalling growth."
      ],
      "metadata": {
        "id": "DW4_bGpfphqN"
      }
    },
    {
      "cell_type": "markdown",
      "source": [
        "# Chart - 7"
      ],
      "metadata": {
        "id": "PIIx-8_IphqN"
      }
    },
    {
      "cell_type": "markdown",
      "source": [
        "# Visualization 7: Top 10 Installed Apps"
      ],
      "metadata": {
        "id": "H1T6U-yQVXXT"
      }
    },
    {
      "cell_type": "code",
      "source": [
        "# Chart - 7 visualization code\n",
        "\n",
        "top_installed = apps_df.groupby('App')['Installs'].sum().sort_values(ascending=False).head(10)\n",
        "\n",
        "plt.figure(figsize=(10,6))\n",
        "sns.barplot(x=top_installed.values, y=top_installed.index, palette=\"crest\")\n",
        "plt.title(\"Top 10 Most Installed Apps\", fontsize=14)\n",
        "plt.xlabel(\"Total Installs\")\n",
        "plt.ylabel(\"App\")\n",
        "plt.show()\n"
      ],
      "metadata": {
        "id": "lqAIGUfyphqO"
      },
      "execution_count": null,
      "outputs": []
    },
    {
      "cell_type": "markdown",
      "source": [
        "##### 1. Why did you pick the specific chart?"
      ],
      "metadata": {
        "id": "t27r6nlMphqO"
      }
    },
    {
      "cell_type": "markdown",
      "source": [
        "I selected this bar chart because it clearly highlights which apps dominate user installs, making it easy to compare adoption patterns across categories. It bridges user behavior with business impact — showing not just categories, but the specific apps users prioritize globally."
      ],
      "metadata": {
        "id": "iv6ro40sphqO"
      }
    },
    {
      "cell_type": "markdown",
      "source": [
        "##### 2. What is/are the insight(s) found from the chart?"
      ],
      "metadata": {
        "id": "r2jJGEOYphqO"
      }
    },
    {
      "cell_type": "markdown",
      "source": [
        "- Subway Surfers is the standout, crossing 6 billion installs, ahead of other major apps.\n",
        "\n",
        "- Google’s own ecosystem apps — Drive, Photos, News, Maps, Hangouts — are strongly represented, proving the success of cross-platform integration.\n",
        "\n",
        "- Social and Communication apps (Instagram, Messenger, WhatsApp) continue to dominate user attention, indicating their importance in daily engagement.\n",
        "\n",
        "- Casual entertainment apps like Candy Crush Saga still hold strong, showing the stickiness of mobile gaming over time."
      ],
      "metadata": {
        "id": "Po6ZPi4hphqO"
      }
    },
    {
      "cell_type": "markdown",
      "source": [
        "3. Will the gained insights help creating a positive business impact?\n",
        "Are there any insights that lead to negative growth? Justify with specific reason."
      ],
      "metadata": {
        "id": "OQdDiz63_qVe"
      }
    },
    {
      "cell_type": "markdown",
      "source": [
        "**Will the gained insights help create a positive business impact?**\n",
        "\n",
        "Yes.\n",
        "\n",
        "**For Google:** Reinforces the dominance of Google apps on Android and provides a benchmark for sustaining ecosystem lock-in.\n",
        "\n",
        "**For developers:** Highlights the network effect — apps with utility (Drive, Maps) or habitual usage (Social, Games) scale fastest.\n",
        "\n",
        "**For Play Store strategy:** These insights can be used to recommend partnerships, highlight top-performing apps, and guide monetization opportunities.\n",
        "\n",
        "**Are there any insights that lead to negative growth? Justify.**\n",
        "\n",
        "Potentially, yes.\n",
        "\n",
        "**Concentration risk:** A small number of apps dominate installs. For smaller developers, this creates a visibility challenge → possible stagnation.\n",
        "\n",
        "**Market saturation:** Apps like WhatsApp, Instagram already approach install saturation, meaning growth will slow compared to emerging apps.\n",
        "\n",
        "**Justification:** Without innovation, top players risk plateauing installs, and smaller developers risk being crowded out of discovery."
      ],
      "metadata": {
        "id": "msN6K0cU_vsH"
      }
    },
    {
      "cell_type": "markdown",
      "source": [
        "# Chart - 8"
      ],
      "metadata": {
        "id": "BZR9WyysphqO"
      }
    },
    {
      "cell_type": "markdown",
      "source": [
        "# Visualization 8: Category-wise Average Rating"
      ],
      "metadata": {
        "id": "FBJjafGOXFdj"
      }
    },
    {
      "cell_type": "code",
      "source": [
        "# Chart - 8 visualization code\n",
        "\n",
        "plt.figure(figsize=(6,6))\n",
        "category_ratings = apps_df.groupby('Category')['Rating'].mean().sort_values(ascending=False)\n",
        "sns.barplot(x=category_ratings.values, y=category_ratings.index, palette=\"viridis\")\n",
        "plt.title(\"Average App Rating per Category\", fontsize=14)\n",
        "plt.xlabel(\"Average Rating\")\n",
        "plt.ylabel(\"Category\")\n",
        "plt.show()\n"
      ],
      "metadata": {
        "id": "TdPTWpAVphqO"
      },
      "execution_count": null,
      "outputs": []
    },
    {
      "cell_type": "markdown",
      "source": [
        "##### 1. Why did you pick the specific chart?"
      ],
      "metadata": {
        "id": "jj7wYXLtphqO"
      }
    },
    {
      "cell_type": "markdown",
      "source": [
        "I chose this chart because it summarizes how users rate apps on average within each category. Unlike sentiment polarity which measures review text tone, this gives a standardized 1–5 star perspective, making it easier to benchmark app quality across categories."
      ],
      "metadata": {
        "id": "Ob8u6rCTphqO"
      }
    },
    {
      "cell_type": "markdown",
      "source": [
        "##### 2. What is/are the insight(s) found from the chart?"
      ],
      "metadata": {
        "id": "eZrbJ2SmphqO"
      }
    },
    {
      "cell_type": "markdown",
      "source": [
        "- Highest-rated categories: Dating and Maps & Navigation stand out with average ratings above 4.3, showing strong user satisfaction in niches with high personalization and utility.\n",
        "\n",
        "- Lowest-rated categories: Education and Art & Design trend toward lower averages (closer to 4.0), which may indicate unmet expectations or variability in app quality.\n",
        "\n",
        "- Stable mid-zone: Most categories fall between 4.1–4.3, showing overall Play Store user satisfaction is consistently high.\n",
        "\n",
        "- Alignment with Sentiment Analysis (Chart 6): Categories with higher polarity (positive reviews) also tend to have higher ratings, strengthening the credibility of the findings."
      ],
      "metadata": {
        "id": "mZtgC_hjphqO"
      }
    },
    {
      "cell_type": "markdown",
      "source": [
        "##### 3. Will the gained insights help creating a positive business impact?\n",
        "Are there any insights that lead to negative growth? Justify with specific reason."
      ],
      "metadata": {
        "id": "rFu4xreNphqO"
      }
    },
    {
      "cell_type": "markdown",
      "source": [
        "**Will the gained insights help create a positive business impact?**\n",
        "\n",
        "Yes.\n",
        "\n",
        "**Category benchmarking:** Developers can see how their apps compare to category averages and identify whether low ratings are an individual issue or an industry-wide challenge.\n",
        "\n",
        "**Play Store curation:** Google can highlight consistently high-rated categories to improve trust and user engagement.\n",
        "\n",
        "**Investment guidance:** Categories with higher average ratings (Dating, Maps, Tools) may be more profitable to support and feature.\n",
        "\n",
        "**Are there any insights that lead to negative growth? Justify.**\n",
        "\n",
        "Potentially.\n",
        "\n",
        "- Education apps showing lower average ratings could discourage new developers from entering the space, slowing innovation in a critical category.\n",
        "\n",
        "- High expectations gap: In categories like Art & Design or Education, users might demand advanced features, making it harder for small developers to compete → risk of churn or negative growth.\n",
        "\n",
        "**Justification:** If categories with lower average ratings are ignored, user dissatisfaction may grow, leading to weaker retention and lower lifetime value."
      ],
      "metadata": {
        "id": "ey_0qi68phqO"
      }
    },
    {
      "cell_type": "markdown",
      "source": [
        "# Chart - 9"
      ],
      "metadata": {
        "id": "YJ55k-q6phqO"
      }
    },
    {
      "cell_type": "markdown",
      "source": [
        "# **Visualization 9: Correlation Heatmap**"
      ],
      "metadata": {
        "id": "pcFJQYUdYUl0"
      }
    },
    {
      "cell_type": "code",
      "source": [
        "# Chart - 9 visualization code\n",
        "\n",
        "plt.figure(figsize=(8,6))\n",
        "sns.heatmap(apps_df[['Rating','Reviews','Size_in_bytes','Installs','Priceeeee']].corr(), annot=True, cmap=\"coolwarm\")\n",
        "plt.title(\"Correlation Between Key Features\", fontsize=14)\n",
        "plt.show()\n"
      ],
      "metadata": {
        "id": "B2aS4O1ophqO"
      },
      "execution_count": null,
      "outputs": []
    },
    {
      "cell_type": "markdown",
      "source": [
        "##### 1. Why did you pick the specific chart?"
      ],
      "metadata": {
        "id": "gCFgpxoyphqP"
      }
    },
    {
      "cell_type": "markdown",
      "source": [
        "I chose this chart because correlations reveal whether app performance metrics — like installs, reviews, ratings, and price — are dependent on each other. This helps validate or challenge assumptions, for example whether higher price means higher quality, or whether installs directly boost ratings."
      ],
      "metadata": {
        "id": "TVxDimi2phqP"
      }
    },
    {
      "cell_type": "markdown",
      "source": [
        "##### 2. What is/are the insight(s) found from the chart?"
      ],
      "metadata": {
        "id": "OVtJsKN_phqQ"
      }
    },
    {
      "cell_type": "markdown",
      "source": [
        "**Reviews ↔ Installs (0.64):** Strong positive correlation — more installs lead to more reviews, which is logical since a bigger user base creates more engagement.\n",
        "\n",
        "**Rating ↔ Other factors:** Very weak correlation (<0.1). Ratings are largely independent of installs, reviews, size, or price → app quality matters more than sheer numbers.\n",
        "\n",
        "**Price ↔ Installs (≈ –0.01):** Essentially no correlation — free apps dominate but pricing alone doesn’t guarantee downloads or success.\n",
        "\n",
        "**Size in Bytes ↔ Other metrics:** Weak correlations, suggesting app size doesn’t strongly influence ratings or installs."
      ],
      "metadata": {
        "id": "ngGi97qjphqQ"
      }
    },
    {
      "cell_type": "markdown",
      "source": [
        "##### 3. Will the gained insights help creating a positive business impact?\n",
        "Are there any insights that lead to negative growth? Justify with specific reason."
      ],
      "metadata": {
        "id": "lssrdh5qphqQ"
      }
    },
    {
      "cell_type": "markdown",
      "source": [
        "**Will the gained insights help create a positive business impact?**\n",
        "\n",
        "Yes.\n",
        "\n",
        "**Developer strategy:** Since ratings are not tied to installs or price, developers should focus on user experience, features, and support rather than just growth hacking downloads.\n",
        "\n",
        "**Monetization:** Price has negligible impact on installs — suggesting freemium or in-app monetization is a stronger business model than upfront pricing.\n",
        "\n",
        "**Play Store policies:** Google can highlight that app quality (reflected in ratings) drives long-term growth, guiding new developers to prioritize user satisfaction.\n",
        "\n",
        "** Are there any insights that lead to negative growth? Justify.**\n",
        "\n",
        "Yes, potential risks:\n",
        "\n",
        "**High installs don’t guarantee high ratings: **Apps can scale quickly (millions of installs) but still get poor reviews → negative growth in reputation.\n",
        "\n",
        "**Pricing strategy confusion:** Developers who assume “higher price = higher perceived value” may misalign with the reality that pricing has almost no impact, risking poor adoption.\n",
        "\n",
        "**Justification:** Ignoring user experience in favor of volume-based metrics can lead to churn, bad reviews, and reduced visibility in the Play Store algorithm."
      ],
      "metadata": {
        "id": "tBpY5ekJphqQ"
      }
    },
    {
      "cell_type": "markdown",
      "source": [
        "# Chart - 10"
      ],
      "metadata": {
        "id": "U2RJ9gkRphqQ"
      }
    },
    {
      "cell_type": "markdown",
      "source": [
        "# Visualization 10: Price Distribution (Paid Apps Only)"
      ],
      "metadata": {
        "id": "LJ5w3zofaqwM"
      }
    },
    {
      "cell_type": "code",
      "source": [
        "# Chart - 10 visualization code\n",
        "\n",
        "plt.figure(figsize=(8,5))\n",
        "sns.histplot(apps_df[apps_df['Type']=='Paid']['Priceeeee'], bins=40, color=\"orange\")\n",
        "plt.title(\"Price Distribution of Paid Apps\", fontsize=14)\n",
        "plt.xlabel(\"Price (USD)\")\n",
        "plt.ylabel(\"Number of Apps\")\n",
        "plt.xlim(0, 100)  # zooming in (ignore extreme outliers)\n",
        "plt.show()\n"
      ],
      "metadata": {
        "id": "GM7a4YP4phqQ"
      },
      "execution_count": null,
      "outputs": []
    },
    {
      "cell_type": "markdown",
      "source": [
        "##### 1. Why did you pick the specific chart?"
      ],
      "metadata": {
        "id": "1M8mcRywphqQ"
      }
    },
    {
      "cell_type": "markdown",
      "source": [
        "I chose this chart because pricing is a critical business decision. I wanted to analyze how paid apps are distributed across different price ranges to understand whether developers follow competitive pricing strategies or whether outliers exist that might affect customer trust."
      ],
      "metadata": {
        "id": "8agQvks0phqQ"
      }
    },
    {
      "cell_type": "markdown",
      "source": [
        "##### 2. What is/are the insight(s) found from the chart?"
      ],
      "metadata": {
        "id": "tgIPom80phqQ"
      }
    },
    {
      "cell_type": "markdown",
      "source": [
        "- Most paid apps are priced very low (under $10).\n",
        "\n",
        "- There are very few apps priced above $20, and they form long-tail outliers.\n",
        "\n",
        "- The distribution is highly skewed → majority of developers avoid premium pricing.\n",
        "\n",
        "- Suggests a “race-to-the-bottom” pricing strategy in app stores, where affordability drives adoption.\n",
        "\n",
        "\n",
        "\n"
      ],
      "metadata": {
        "id": "Qp13pnNzphqQ"
      }
    },
    {
      "cell_type": "markdown",
      "source": [
        "##### 3. Will the gained insights help creating a positive business impact?\n",
        "Are there any insights that lead to negative growth? Justify with specific reason."
      ],
      "metadata": {
        "id": "JMzcOPDDphqR"
      }
    },
    {
      "cell_type": "markdown",
      "source": [
        "**Will the gained insights help create a positive business impact?**\n",
        "\n",
        "Yes.\n",
        "\n",
        "**For developers:** Confirms that competitive pricing (low-cost, freemium models) aligns with market expectations.\n",
        "\n",
        "**For app store strategy:** Google can encourage developers to adopt in-app purchases and subscriptions rather than high upfront costs, ensuring better revenue sustainability.\n",
        "\n",
        "**For users:** More affordable apps increase accessibility, building trust in the Play Store ecosystem.\n",
        "\n",
        "**Are there any insights that lead to negative growth? Justify.**\n",
        "\n",
        "Yes.\n",
        "\n",
        "**Outlier pricing (> $50 apps):** These could create mistrust — users may feel some apps are overpriced scams.\n",
        "\n",
        "**Market saturation at low price points:** Too many cheap apps reduce differentiation, making it harder for new developers to stand out.\n",
        "\n",
        "**Justification:** If developers rely only on upfront paid pricing, they risk low adoption, poor visibility, and eventually negative growth compared to freemium competitors."
      ],
      "metadata": {
        "id": "R4Ka1PC2phqR"
      }
    },
    {
      "cell_type": "markdown",
      "source": [
        "# Chart - 11"
      ],
      "metadata": {
        "id": "x-EpHcCOp1ci"
      }
    },
    {
      "cell_type": "code",
      "source": [
        "# Chart - 11 visualization code\n",
        "\n",
        "plt.figure(figsize=(8, 5))\n",
        "plt.hist(apps_df['Rating'], bins=20, color='skyblue', edgecolor='black')\n",
        "plt.title('Distribution of App Ratings')\n",
        "plt.xlabel('Rating')\n",
        "plt.ylabel('Number of Apps')\n",
        "plt.show()"
      ],
      "metadata": {
        "id": "mAQTIvtqp1cj"
      },
      "execution_count": null,
      "outputs": []
    },
    {
      "cell_type": "markdown",
      "source": [
        "##### 1. Why did you pick the specific chart?"
      ],
      "metadata": {
        "id": "X_VqEhTip1ck"
      }
    },
    {
      "cell_type": "markdown",
      "source": [
        "I selected a histogram to understand how ratings are distributed across all apps. This type of chart is ideal because ratings are continuous numerical data, and this combination helps visualize both frequency and the underlying trend or density."
      ],
      "metadata": {
        "id": "-vsMzt_np1ck"
      }
    },
    {
      "cell_type": "markdown",
      "source": [
        "##### 2. What is/are the insight(s) found from the chart?"
      ],
      "metadata": {
        "id": "8zGJKyg5p1ck"
      }
    },
    {
      "cell_type": "markdown",
      "source": [
        "- Most apps are rated between 4.0 and 4.5, which suggests that the majority of users are generally satisfied.\n",
        "\n",
        "- Very few apps fall below a rating of 3.0, indicating that poor-quality apps are either rare or quickly removed from the store."
      ],
      "metadata": {
        "id": "ZYdMsrqVp1ck"
      }
    },
    {
      "cell_type": "markdown",
      "source": [
        "##### 3. Will the gained insights help creating a positive business impact?\n",
        "Are there any insights that lead to negative growth? Justify with specific reason."
      ],
      "metadata": {
        "id": "PVzmfK_Ep1ck"
      }
    },
    {
      "cell_type": "markdown",
      "source": [
        " Will the gained insights help creating a positive business impact?\n",
        "\n",
        " Yes.\n",
        "\n",
        "- Knowing that apps typically need to maintain a rating above 4.0 to compete, developers can prioritize user experience and feedback loops.\n",
        "\n",
        "- Helps businesses set a benchmark for success when entering the market.\n",
        "\n",
        " Will the gained insights help creating a positive business impact?\n",
        "\n",
        " Yes.\n",
        "\n",
        "- If an app consistently falls below 3.0, it may suffer from low visibility, fewer downloads, and bad reviews, leading to negative growth.\n",
        "\n",
        "- This chart reveals how crucial it is to monitor and maintain high ratings for long-term app success.\n",
        "\n"
      ],
      "metadata": {
        "id": "druuKYZpp1ck"
      }
    },
    {
      "cell_type": "markdown",
      "source": [
        "#### Chart - 12"
      ],
      "metadata": {
        "id": "n3dbpmDWp1ck"
      }
    },
    {
      "cell_type": "code",
      "source": [
        "# Chart - 12 visualization code\n",
        "\n",
        "plt.figure(figsize=(12, 6))\n",
        "\n",
        "# Group by category and sum installs\n",
        "installs_by_category = apps_df.groupby('Category')['Installs'].sum().sort_values(ascending=False).head(15)\n",
        "# Plot\n",
        "sns.barplot(x=installs_by_category.values, y=installs_by_category.index, palette='crest')\n",
        "plt.title('Top 15 App Categories by Total Installs')\n",
        "plt.xlabel('Total Installs')\n",
        "plt.ylabel('Category')\n",
        "plt.grid(axis='x')\n",
        "plt.show()"
      ],
      "metadata": {
        "id": "bwevp1tKp1ck"
      },
      "execution_count": null,
      "outputs": []
    },
    {
      "cell_type": "markdown",
      "source": [
        "##### 1. Why did you pick the specific chart?"
      ],
      "metadata": {
        "id": "ylSl6qgtp1ck"
      }
    },
    {
      "cell_type": "markdown",
      "source": [
        "This bar plot shows total installs per category. It helps:\n",
        "\n",
        "- Understand market demand.\n",
        "\n",
        "- Spot high-traffic categories worth targeting."
      ],
      "metadata": {
        "id": "m2xqNkiQp1ck"
      }
    },
    {
      "cell_type": "markdown",
      "source": [
        "##### 2. What is/are the insight(s) found from the chart?"
      ],
      "metadata": {
        "id": "ZWILFDl5p1ck"
      }
    },
    {
      "cell_type": "markdown",
      "source": [
        "- Game, Communication, and Tools dominate with the highest total installs.\n",
        "\n",
        "- This shows where user engagement and demand are concentrated."
      ],
      "metadata": {
        "id": "x-lUsV2mp1ck"
      }
    },
    {
      "cell_type": "markdown",
      "source": [
        "##### 3. Will the gained insights help creating a positive business impact?\n",
        "Are there any insights that lead to negative growth? Justify with specific reason."
      ],
      "metadata": {
        "id": "M7G43BXep1ck"
      }
    },
    {
      "cell_type": "markdown",
      "source": [
        "**Positive:**\n",
        "\n",
        "Targeting high-install categories could result in larger user base and ad revenue.\n",
        "\n",
        "Helps marketers focus promotional efforts where reach is higher.\n",
        "\n",
        "**Negative:**\n",
        "\n",
        "These popular categories are also extremely competitive, so entry without differentiation may lead to poor app performance."
      ],
      "metadata": {
        "id": "5wwDJXsLp1cl"
      }
    },
    {
      "cell_type": "markdown",
      "source": [
        "#### Chart - 13"
      ],
      "metadata": {
        "id": "Ag9LCva-p1cl"
      }
    },
    {
      "cell_type": "code",
      "source": [
        "# Chart - 13 visualization code\n",
        "\n",
        "plt.figure(figsize=(8, 5))\n",
        "# Group and calculate average rating\n",
        "avg_rating_by_content = apps_df.groupby('Content Rating')['Rating'].mean().sort_values(ascending=False)\n",
        "# Plot\n",
        "sns.barplot(x=avg_rating_by_content.index, y=avg_rating_by_content.values, palette='Set3')\n",
        "plt.title('Average Rating by Content Rating')\n",
        "plt.xlabel('Content Rating')\n",
        "plt.ylabel('Average Rating')\n",
        "plt.ylim(3.5, 5)\n",
        "plt.grid(axis='y')\n",
        "plt.xticks(rotation=45)\n",
        "plt.show()"
      ],
      "metadata": {
        "id": "EUfxeq9-p1cl"
      },
      "execution_count": null,
      "outputs": []
    },
    {
      "cell_type": "markdown",
      "source": [
        "##### 1. Why did you pick the specific chart?"
      ],
      "metadata": {
        "id": "E6MkPsBcp1cl"
      }
    },
    {
      "cell_type": "markdown",
      "source": [
        "This bar plot helps us:\n",
        "\n",
        "- See if age-targeted apps have an influence on user satisfaction.\n",
        "\n",
        "- Understand preferences across different user bases."
      ],
      "metadata": {
        "id": "V22bRsFWp1cl"
      }
    },
    {
      "cell_type": "markdown",
      "source": [
        "##### 2. What is/are the insight(s) found from the chart?"
      ],
      "metadata": {
        "id": "2cELzS2fp1cl"
      }
    },
    {
      "cell_type": "markdown",
      "source": [
        "- Apps rated \"Adults only 18+\" and \"Teen\" often have slightly higher average ratings.\n",
        "\n",
        "- \"Mature 17+\" tend to have slightly lower ratings, possibly due to niche usage or stricter expectations."
      ],
      "metadata": {
        "id": "ozQPc2_Ip1cl"
      }
    },
    {
      "cell_type": "markdown",
      "source": [
        "##### 3. Will the gained insights help creating a positive business impact?\n",
        "Are there any insights that lead to negative growth? Justify with specific reason."
      ],
      "metadata": {
        "id": "3MPXvC8up1cl"
      }
    },
    {
      "cell_type": "markdown",
      "source": [
        "**Positive:**\n",
        "\n",
        "- Helps developers decide target age groups based on quality perception.\n",
        "\n",
        "- Can help fine-tune UI/UX and feature sets for specific age brackets.\n",
        "\n",
        "**Negative:**\n",
        "\n",
        "Targeting mature audiences might lead to lower engagement or ratings if not done carefully."
      ],
      "metadata": {
        "id": "GL8l1tdLp1cl"
      }
    },
    {
      "cell_type": "markdown",
      "source": [
        "#### Chart - 14\n",
        "\n",
        "\n",
        "\n"
      ],
      "metadata": {
        "id": "NC_X3p0fY2L0"
      }
    },
    {
      "cell_type": "code",
      "source": [
        "# Chart - 14 visualization code\n",
        "\n",
        "plt.figure(figsize=(7, 5))\n",
        "\n",
        "sns.boxplot(data=apps_df, x='Type', y='Rating', palette='pastel')\n",
        "\n",
        "plt.title('Distribution of App Ratings: Free vs Paid Apps')\n",
        "plt.xlabel('App Type')\n",
        "plt.ylabel('Rating')\n",
        "plt.grid(True)\n",
        "plt.show()"
      ],
      "metadata": {
        "id": "JzLtxooMihVN"
      },
      "execution_count": null,
      "outputs": []
    },
    {
      "cell_type": "markdown",
      "source": [
        "##### 1. Why did you pick the specific chart?"
      ],
      "metadata": {
        "id": "UV0SzAkaZNRQ"
      }
    },
    {
      "cell_type": "markdown",
      "source": [
        "A box plot shows the spread, median, and outliers of ratings:\n",
        "\n",
        "- Helps understand if paid apps are actually better rated than free ones.\n",
        "\n",
        "- Reveals consistency or variability in user satisfaction."
      ],
      "metadata": {
        "id": "DVPuT8LYZNRQ"
      }
    },
    {
      "cell_type": "markdown",
      "source": [
        "##### 2. What is/are the insight(s) found from the chart?"
      ],
      "metadata": {
        "id": "YPEH6qLeZNRQ"
      }
    },
    {
      "cell_type": "markdown",
      "source": [
        "- Paid apps tend to have a slightly higher median rating than free apps.\n",
        "\n",
        "- Free apps show a wider range and more outliers, likely due to more downloads and mixed expectations."
      ],
      "metadata": {
        "id": "bfSqtnDqZNRR"
      }
    },
    {
      "cell_type": "markdown",
      "source": [
        "3. Will the gained insights help creating a positive business impact?\n",
        "Are there any insights that lead to negative growth? Justify with specific reason."
      ],
      "metadata": {
        "id": "VHHO4WWui0rs"
      }
    },
    {
      "cell_type": "markdown",
      "source": [
        "**Positive:**\n",
        "\n",
        "- If Paid apps are better rated, it may justify pricing a high-quality app.\n",
        "\n",
        "- Helps strategize monetization: apps with consistent quality may earn better as premium offerings.\n",
        "\n",
        "**Negative:**\n",
        "\n",
        "Free apps must work harder to gain and maintain user trust — bad reviews spread fast, harming brand image."
      ],
      "metadata": {
        "id": "Ke5Zq2qzi3kM"
      }
    },
    {
      "cell_type": "markdown",
      "source": [
        "#### Chart - 15 - Pair Plot"
      ],
      "metadata": {
        "id": "q29F0dvdveiT"
      }
    },
    {
      "cell_type": "code",
      "source": [
        "# Pair Plot visualization code\n",
        "\n",
        "# Choose key numeric columns for pairplot\n",
        "pairplot_df = apps_df[['Rating', 'Reviews', 'Installs','Priceeeee', 'Size_in_bytes']]\n",
        "\n",
        "# Plot the pairplot\n",
        "sns.pairplot(pairplot_df, corner=True, diag_kind='kde', plot_kws={'alpha': 0.5})\n",
        "plt.suptitle('Pair Plot of Key Numerical Features', y=1.02)\n",
        "plt.show()\n"
      ],
      "metadata": {
        "id": "o58-TEIhveiU"
      },
      "execution_count": null,
      "outputs": []
    },
    {
      "cell_type": "markdown",
      "source": [
        "##### 1. Why did you pick the specific chart?"
      ],
      "metadata": {
        "id": "EXh0U9oCveiU"
      }
    },
    {
      "cell_type": "markdown",
      "source": [
        "\n",
        "A pair plot is useful to:\n",
        "\n",
        "- Detect linear or non-linear relationships between variables.\n",
        "\n",
        "- Observe clustering or outliers.\n",
        "\n",
        "- Explore the distribution of each variable."
      ],
      "metadata": {
        "id": "eMmPjTByveiU"
      }
    },
    {
      "cell_type": "markdown",
      "source": [
        "##### 2. What is/are the insight(s) found from the chart?"
      ],
      "metadata": {
        "id": "22aHeOlLveiV"
      }
    },
    {
      "cell_type": "markdown",
      "source": [
        "- Installs and Reviews show a strong positive relationship.\n",
        "\n",
        "- Rating has a mild relationship with Installs and Reviews.\n",
        "\n",
        "- Price and Size have more scattered and less obvious trends."
      ],
      "metadata": {
        "id": "uPQ8RGwHveiV"
      }
    },
    {
      "cell_type": "markdown",
      "source": [
        "## **5. Solution to Business Objective**"
      ],
      "metadata": {
        "id": "JcMwzZxoAimU"
      }
    },
    {
      "cell_type": "markdown",
      "source": [
        "#### What do you suggest the client to achieve Business Objective ?\n",
        "Explain Briefly."
      ],
      "metadata": {
        "id": "8G2x9gOozGDZ"
      }
    },
    {
      "cell_type": "markdown",
      "source": [
        "Based on the analysis, here are some suggestions for the client to achieve their business objective:\n",
        "\n",
        "To make apps stand out and gain downloads/ratings:\n",
        "\n",
        "Target Less Crowded Categories: The analysis of app categories showed high competition in certain areas (like Games, Tools, Family). Encourage the client to explore niche or less saturated categories where there's less noise and a higher chance of being discovered.\n",
        "Focus on App Quality and User Experience: The correlation analysis showed that ratings are not strongly correlated with installs, price, or size, suggesting that user satisfaction (reflected in ratings) is independent of these factors. This means focusing on building a high-quality, well-performing app with a great user experience is crucial for getting good ratings and positive reviews, which in turn can drive more organic installs.\n",
        "Optimize App Size: While not strongly correlated with ratings, the analysis showed that very large apps can sometimes receive lower ratings. Advise the client to optimize app size to avoid potential performance or storage issues that might frustrate users.\n",
        "Prioritize Free Apps for Mass Adoption: The box plot of installs by type clearly shows that free apps have significantly higher install numbers. If the goal is mass adoption, recommend starting with a free model and exploring monetization strategies like in-app purchases or ads later.\n",
        "Actively Address Negative Feedback: The sentiment analysis revealed a significant number of negative reviews. Stress the importance of actively monitoring user reviews, especially negative ones, to identify pain points and make necessary improvements to the app. Responding to reviews also shows users that their feedback is valued.\n",
        "Leverage Positive Reviews: Highlight the importance of encouraging satisfied users to leave reviews. Positive reviews and high ratings are key social proof that can attract new users.\n",
        "In summary, for developers to succeed in the crowded Play Store, they should strategically choose their category, prioritize app quality and user experience regardless of monetization model or size (within reason), and actively engage with user feedback to continuously improve.\n",
        "\n"
      ],
      "metadata": {
        "id": "pASKb0qOza21"
      }
    },
    {
      "cell_type": "markdown",
      "source": [
        "# **Conclusion**"
      ],
      "metadata": {
        "id": "gCX9965dhzqZ"
      }
    },
    {
      "cell_type": "markdown",
      "metadata": {
        "id": "b9d0b9fa"
      },
      "source": [
        "Based on the exploratory data analysis of the Google Play Store and User Reviews datasets, several key factors influencing app success were identified:\n",
        "\n",
        "*   **Category Competition:** Certain categories are significantly more crowded than others (e.g., Family, Games), while niche categories offer less competition.\n",
        "*   **Ratings Distribution:** Most apps have ratings between 3.5 and 4.5, with very few achieving a perfect 5.0, highlighting the importance of maintaining high quality.\n",
        "*   **Free vs. Paid Apps:** Free apps overwhelmingly dominate in terms of installation volume, suggesting that a free monetization strategy is more effective for achieving broad reach. Paid apps tend to have slightly higher average ratings but significantly fewer installs.\n",
        "*   **Size and Rating Correlation:** App size does not have a strong correlation with ratings, although extremely large apps may see slightly lower ratings, emphasizing the need for optimization.\n",
        "*   **Sentiment Analysis:** A majority of user reviews are positive, but a substantial number of negative reviews exist. Addressing negative feedback is crucial for improving app quality and user retention.\n",
        "*   **Category Sentiment:** Some categories, like Education and Art & Design, show higher average sentiment polarity, while others, such as Dating and Tools, have more mixed or lower sentiment.\n",
        "*   **Top Apps:** The most installed apps are primarily utility and communication apps, alongside popular games and social media platforms.\n",
        "*   **Correlation of Features:** Installs and Reviews are strongly correlated, but Rating shows little correlation with Installs, Reviews, Size, or Price. This suggests that high download numbers do not automatically translate to high user satisfaction.\n",
        "\n",
        "In conclusion, while achieving high installation numbers often depends on being free and in a popular category, sustained success and positive ratings are more closely tied to the quality and user experience of the app itself, as well as actively engaging with and responding to user feedback. Developers should strategically choose their app category, prioritize building a high-quality product, optimize app size, consider a free monetization model for wider reach, and actively manage user reviews to drive positive growth in the competitive Play Store environment."
      ]
    }
  ]
}